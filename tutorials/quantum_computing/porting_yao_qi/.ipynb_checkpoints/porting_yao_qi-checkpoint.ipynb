{
 "cells": [
  {
   "cell_type": "markdown",
   "metadata": {},
   "source": [
    "# How to port Yao.jl to QuantumInformation.jl\n",
    "### GiggleLiu"
   ]
  },
  {
   "cell_type": "markdown",
   "metadata": {},
   "source": [
    "# overview\n",
    "\n",
    " [`Yao`](https://github.com/QuantumBFS/Yao.jl) is a powerful tool for quantum circuit based simulation, but it does not support many density matrix related operations. This is why we need to port `Yao.jl` with [`QuantumInformation (QI)`](https://github.com/QuantumBFS/QuantumInformation.jl) sometimes (e.g. for computing entanglement entropy).\n",
    " \n",
    "* `Yao.jl` Documentation: https://quantumbfs.github.io/Yao.jl/latest/ (paper is comming out)\n",
    "* `QuantumInformation.jl` paper: https://arxiv.org/abs/1806.11464\n",
    "     \n",
    "### `Yao` provides\n",
    "* high performance quantum circuit based simulation\n",
    "    * parameter management\n",
    "    * gradients\n",
    "    * batched regiser\n",
    "* operator matrix representation and arithmatics\n",
    "* [quantum algorithms](https://github.com/QuantumBFS/QuAlgorithmZoo.jl)\n",
    "* [GPU support](https://github.com/QuantumBFS/CuYao.jl)\n",
    "\n",
    "### `QI` provides\n",
    "\n",
    "* Compute entropy from density matrices\n",
    "* Quantum channels, four types of channel representations\n",
    "    * Kraus Operator\n",
    "    * Super operator\n",
    "    * Dynamic matrices\n",
    "    * Stinespring representation\n",
    "* Compute norm, distance and distingushability between \"states\" (density matrices)\n",
    "    * Hilbert–Schmidt norm and distance\n",
    "    * trace norm and *distance*\n",
    "    * diamond norm\n",
    "    * Bures distane and Bures angles\n",
    "    * *fidelity* and superfidelity\n",
    "    * KL-divergence\n",
    "    * JS-distance\n",
    "* Compute the amount of entanglement\n",
    "     * negativity\n",
    "     * positive partial trace\n",
    "     * concurrence\n",
    "* POVM measurements"
   ]
  },
  {
   "cell_type": "code",
   "execution_count": 11,
   "metadata": {},
   "outputs": [
    {
     "data": {
      "text/plain": [
       "exchange_sysenv (generic function with 1 method)"
      ]
     },
     "execution_count": 11,
     "metadata": {},
     "output_type": "execute_result"
    }
   ],
   "source": [
    "import Yao\n",
    "using Yao: ArrayReg, ρ, mat, @bit_str, statevec, ConstGate\n",
    "import QuantumInformation; const QI = QuantumInformation\n",
    "using QuantumInformation: ket\n",
    "using LinearAlgebra\n",
    "using Test\n",
    "\n",
    "# patches to make life easier\n",
    "\n",
    "# obtaining matrix from Yao.DensityMatrix{1}, `1` is the batch size.\n",
    "LinearAlgebra.Matrix(d::Yao.DensityMatrix{1}) = dropdims(d.state, dims=3)\n",
    "# obtaining Dense Matrix of a block\n",
    "LinearAlgebra.Matrix(blk::Yao.AbstractBlock) = Matrix(mat(blk))\n",
    "\n",
    "# exchange system and environment qubits\n",
    "function exchange_sysenv(reg::ArrayReg{B}) where B\n",
    "    ArrayReg{B}(reshape(permutedims(rank3(reg), (2,1,3)), :,size(reg.state, 1)*B))\n",
    "end"
   ]
  },
  {
   "cell_type": "markdown",
   "metadata": {},
   "source": [
    "Obtain reduced density matrices in Yao\n",
    "-------------------------\n",
    "The memory layout of `Yao` register and `QI` ket are similar, their basis are both [little endian](https://en.wikipedia.org/wiki/Endianness), despite they have different representation powers\n",
    "\n",
    "* `Yao` support batch,\n",
    "* `QI` is not limited to qubits.\n",
    "\n",
    "\n",
    "`Yao` does not have much operations defined on density matrices, but purified states with environment,\n",
    "On the other side, most operations in `QI` are defined on **(density) matrices**, they can be easily obtained in `Yao`."
   ]
  },
  {
   "cell_type": "code",
   "execution_count": 2,
   "metadata": {},
   "outputs": [
    {
     "data": {
      "text/plain": [
       "\u001b[32m\u001b[1mTest Passed\u001b[22m\u001b[39m"
      ]
     },
     "execution_count": 2,
     "metadata": {},
     "output_type": "execute_result"
    }
   ],
   "source": [
    "# construct a product state, notice the indexing in `QI` starts from `1`\n",
    "@test QI.ket(3, 1<<4) ≈ statevec(ArrayReg(bit\"0010\"))\n",
    "\n",
    "# join two registers, notice little endian convension is used here.\n",
    "reg = Yao.:⊗(ArrayReg(bit\"10\"), ArrayReg(bit\"11\"))\n",
    "v = QI.:⊗(QI.ket(0b10+1,1<<2), QI.ket(0b11+1,1<<2))\n",
    "@test statevec(reg) ≈ v"
   ]
  },
  {
   "cell_type": "code",
   "execution_count": 3,
   "metadata": {
    "scrolled": true
   },
   "outputs": [
    {
     "data": {
      "text/plain": [
       "16×16 Array{Complex{Float64},2}:\n",
       "   0.0588151+0.0im          …    -0.0117838+0.00485159im \n",
       " -0.00734141-0.00881882im      -0.000283138+0.00673313im \n",
       "  -0.0141101+0.000873827im     -0.000332235+0.00843239im \n",
       "  0.00328968-0.00596222im       -0.00111049+0.00489183im \n",
       " -0.00782027-0.00878308im       -0.00209229-0.0078514im  \n",
       " -0.00709211-0.00414977im   …   0.000340374-0.00473684im \n",
       "  -0.0080356-0.00252424im      -0.000169419-0.000497821im\n",
       " -0.00560366-0.00384984im       -0.00624502-0.00534628im \n",
       "  0.00312405+0.0146891im        -0.00226016-0.000117734im\n",
       "   0.0125815-0.00131478im       -0.00810962-0.0062258im  \n",
       "  0.00398846+0.0100029im    …   -0.00220118-0.00108261im \n",
       "  0.00176719+0.000507726im       0.00333469-0.00432339im \n",
       " 0.000425021+0.0136416im        -0.00990785-0.0100469im  \n",
       " -0.00251458+0.000168808im       0.00137136-0.00277852im \n",
       "   0.0109385-0.0092726im        0.000671682+0.010512im   \n",
       "  -0.0117838-0.00485159im   …     0.0616586+0.0im        "
      ]
     },
     "execution_count": 3,
     "metadata": {},
     "output_type": "execute_result"
    }
   ],
   "source": [
    "# convert a Yao register to density matrix in QI\n",
    "reg2dm(reg::ArrayReg{1}) = reg |> ρ |> Matrix\n",
    "\n",
    "# e.g. obtain a reduced denstiy matrix for subsystem 1,2,3,4\n",
    "reg = Yao.rand_state(10)\n",
    "freg = Yao.focus!(reg, 1:4) # make qubits 1-4 active\n",
    "reg2dm(freg)"
   ]
  },
  {
   "cell_type": "markdown",
   "metadata": {},
   "source": [
    "One can also convert a density matrix to a a quantum state through **purification**"
   ]
  },
  {
   "cell_type": "code",
   "execution_count": 12,
   "metadata": {},
   "outputs": [
    {
     "data": {
      "text/plain": [
       "purify"
      ]
     },
     "execution_count": 12,
     "metadata": {},
     "output_type": "execute_result"
    }
   ],
   "source": [
    "\"\"\"\n",
    "get a purification of target density matrix,\n",
    "`nbit_env` decides how many qubits in environment,\n",
    "which is related to the entropy.\n",
    "\"\"\"\n",
    "function purify(r::Yao.DensityMatrix{B}; nbit_env::Int=nactive(r)) where B\n",
    "    Ne = 1<<nbit_env\n",
    "    Ns = size(r.state,1)\n",
    "    state = similar(r.state,Ns,Ne,B)\n",
    "    for ib in 1:B\n",
    "        R, U = eigen!(r.state[:,:,ib])\n",
    "        state[:,:,ib] .= view(U,:,Ns-Ne+1:Ns) .* sqrt.(abs.(view(R,Ns-Ne+1:Ns)'))\n",
    "    end\n",
    "    return ArrayReg(state)\n",
    "end"
   ]
  },
  {
   "cell_type": "code",
   "execution_count": 13,
   "metadata": {},
   "outputs": [
    {
     "data": {
      "text/plain": [
       "\u001b[32m\u001b[1mTest Passed\u001b[22m\u001b[39m"
      ]
     },
     "execution_count": 13,
     "metadata": {},
     "output_type": "execute_result"
    }
   ],
   "source": [
    "# e.g. purify a state and recover it\n",
    "reg = Yao.rand_state(6) |> Yao.focus!(1:4)\n",
    "reg_p = purify(reg |> ρ; nbit_env=2)\n",
    "@test Yao.fidelity(reg, reg_p)[] ≈ 1"
   ]
  },
  {
   "cell_type": "markdown",
   "metadata": {},
   "source": [
    "entanglement & state distance\n",
    "----------------\n"
   ]
  },
  {
   "cell_type": "code",
   "execution_count": 6,
   "metadata": {},
   "outputs": [
    {
     "data": {
      "text/plain": [
       "\u001b[32m\u001b[1mTest Passed\u001b[22m\u001b[39m"
      ]
     },
     "execution_count": 6,
     "metadata": {},
     "output_type": "execute_result"
    }
   ],
   "source": [
    "reg1 = Yao.rand_state(10)\n",
    "freg1 = Yao.focus!(reg1, 1:4)\n",
    "reg2 = Yao.rand_state(6)\n",
    "freg2 = Yao.focus!(reg2, 1:4)\n",
    "dm1, dm2 = freg1 |> reg2dm, freg2 |> reg2dm\n",
    "\n",
    "# trace distance between two registers (different by a factor 2)\n",
    "@test Yao.tracedist(freg1, freg2)[]/2 ≈ QI.trace_distance(dm1, dm2)"
   ]
  },
  {
   "cell_type": "code",
   "execution_count": 7,
   "metadata": {},
   "outputs": [
    {
     "name": "stdout",
     "output_type": "stream",
     "text": [
      "QI.vonneumann_entropy(dm1) = 2.6480986571322074\n",
      "QI.vonneumann_entropy(dm2) = 1.2257282673569416\n"
     ]
    },
    {
     "data": {
      "text/plain": [
       "1.2257282673569416"
      ]
     },
     "execution_count": 7,
     "metadata": {},
     "output_type": "execute_result"
    }
   ],
   "source": [
    "# get the entanglement entropy between system and env\n",
    "@show QI.vonneumann_entropy(dm1)\n",
    "@show QI.vonneumann_entropy(dm2)"
   ]
  },
  {
   "cell_type": "code",
   "execution_count": 8,
   "metadata": {},
   "outputs": [
    {
     "data": {
      "text/plain": [
       "1.6363254057641416"
      ]
     },
     "execution_count": 8,
     "metadata": {},
     "output_type": "execute_result"
    }
   ],
   "source": [
    "# KL-divergence (or relative entropy)\n",
    "QI.kl_divergence(dm2, dm1)"
   ]
  },
  {
   "cell_type": "markdown",
   "metadata": {},
   "source": [
    "Note: you can defined many distances and entropies in a similar way, we don't enumerate it."
   ]
  },
  {
   "cell_type": "markdown",
   "metadata": {},
   "source": [
    "Quantum Operations/Quantum Gates\n",
    "------------------------\n",
    "\n",
    "A quantum gate in `Yao` is equivalent to a unitary channel in `QI`, matrix representations of blocks in `Yao` can be used to construct channels."
   ]
  },
  {
   "cell_type": "code",
   "execution_count": 9,
   "metadata": {},
   "outputs": [
    {
     "data": {
      "text/plain": [
       "QuantumInformation.KrausOperators{Array{Complex{Float64},2}}\n",
       "    dimensions: (2, 2)\n",
       "    Complex{Float64}[1.0+0.0im 0.0+0.0im; 0.0+0.0im 0.0+0.0im]\n",
       "    Complex{Float64}[0.0+0.0im 0.0+0.0im; 0.0+0.0im 1.0+0.0im]\n",
       "    Complex{Float64}[0.0+0.0im 1.0+0.0im; 0.0+0.0im 0.0+0.0im]"
      ]
     },
     "execution_count": 9,
     "metadata": {},
     "output_type": "execute_result"
    }
   ],
   "source": [
    "# construct a Kraus Operator\n",
    "QI.KrausOperators([Matrix(ConstGate.P0), Matrix(ConstGate.P1), Matrix(ConstGate.Pu)])"
   ]
  },
  {
   "cell_type": "code",
   "execution_count": 10,
   "metadata": {},
   "outputs": [
    {
     "data": {
      "text/plain": [
       "\u001b[32m\u001b[1mTest Passed\u001b[22m\u001b[39m"
      ]
     },
     "execution_count": 10,
     "metadata": {},
     "output_type": "execute_result"
    }
   ],
   "source": [
    "# applying a rotation gate\n",
    "b1 = Yao.put(2,2=>Yao.Rx(0.3π))\n",
    "c1 = QI.UnitaryChannel(mat(b1))\n",
    "b2 = Yao.put(2,2=>Yao.Ry(0.3π))\n",
    "c2 = QI.UnitaryChannel(mat(b2))\n",
    "\n",
    "reg = Yao.rand_state(2)\n",
    "@test copy(reg) |> b1 |> reg2dm ≈ c1(reg |> reg2dm)\n",
    "@test copy(reg) |> Yao.chain(b1,b2) |> reg2dm ≈ (c2∘c1)(reg |> reg2dm)"
   ]
  },
  {
   "cell_type": "code",
   "execution_count": null,
   "metadata": {},
   "outputs": [],
   "source": []
  }
 ],
 "metadata": {
  "@webio": {
   "lastCommId": null,
   "lastKernelId": null
  },
  "kernelspec": {
   "display_name": "Julia 1.1.0",
   "language": "julia",
   "name": "julia-1.1"
  },
  "language_info": {
   "file_extension": ".jl",
   "mimetype": "application/julia",
   "name": "julia",
   "version": "1.1.0"
  }
 },
 "nbformat": 4,
 "nbformat_minor": 2
}
